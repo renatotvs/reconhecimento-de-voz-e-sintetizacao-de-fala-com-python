{
 "cells": [
  {
   "cell_type": "markdown",
   "metadata": {},
   "source": [
    "## Integrando Sintetização e Reconhecimento de Vóz\n",
    "\n",
    "Criar um programa que irá perguntar se eu desejo ouvir minha música favorita, respondendo sim ou não para executar a ação."
   ]
  },
  {
   "cell_type": "code",
   "execution_count": 1,
   "metadata": {},
   "outputs": [],
   "source": [
    "import pyttsx3 # para sintetizacao\n",
    "import speech_recognition as sr #para reconhecimento da fala\n",
    "import os #biblioteca do sistema"
   ]
  },
  {
   "cell_type": "code",
   "execution_count": 2,
   "metadata": {},
   "outputs": [],
   "source": [
    "en = pyttsx3.init()\n",
    "en.say(\"Olá senhor, você deseja ouvir sua música favorita? Responda sim ou caso contrário responda não.\")\n",
    "#en.setProperty('voice', b'brazil')\n",
    "en.setProperty('rate', 140)\n",
    "en.setProperty('volume', 1)\n",
    "en.runAndWait()\n",
    "en.stop()"
   ]
  },
  {
   "cell_type": "markdown",
   "metadata": {},
   "source": [
    "### Reconhecimento da Fala"
   ]
  },
  {
   "cell_type": "code",
   "execution_count": 42,
   "metadata": {},
   "outputs": [],
   "source": [
    "import speech_recognition as sr\n",
    "\n",
    "recon = sr.Recognizer()\n",
    "\n",
    "with sr.Microphone() as source:\n",
    "    \n",
    "    audio = recon.listen(source)\n",
    "    \n",
    "    resposta = recon.recognize_google(audio, language=\"pt-BR\")\n",
    "\n",
    "    if resposta == \"sim\":\n",
    "        \n",
    "        en.say(\"OK, executando a música\")\n",
    "        #en.setProperty('voice', b'brazil')\n",
    "        en.setProperty('rate', 140)\n",
    "        en.setProperty('volume', 1)\n",
    "        en.runAndWait()\n",
    "        \n",
    "        #mixer.music.load(\"sim.mp3\")\n",
    "        #mixer.music.play()\n",
    "\n",
    "        os.system(\"musica.mp3\")\n",
    "        \n",
    "    elif resposta == \"não\":\n",
    "        \n",
    "        en.say(\"OK, solicitação negada, encerrando o programa\")\n",
    "        #en.setProperty('voice', b'brazil')\n",
    "        en.setProperty('rate', 140)\n",
    "        en.setProperty('volume', 1)\n",
    "        en.runAndWait()\n",
    "        \n",
    "        #mixer.music.load(\"nao.mp3\")\n",
    "        #mixer.music.play()\n",
    "    \n",
    "#print(resposta)"
   ]
  },
  {
   "cell_type": "code",
   "execution_count": null,
   "metadata": {},
   "outputs": [],
   "source": []
  }
 ],
 "metadata": {
  "kernelspec": {
   "display_name": "Python 3",
   "language": "python",
   "name": "python3"
  },
  "language_info": {
   "codemirror_mode": {
    "name": "ipython",
    "version": 3
   },
   "file_extension": ".py",
   "mimetype": "text/x-python",
   "name": "python",
   "nbconvert_exporter": "python",
   "pygments_lexer": "ipython3",
   "version": "3.6.5"
  }
 },
 "nbformat": 4,
 "nbformat_minor": 2
}
