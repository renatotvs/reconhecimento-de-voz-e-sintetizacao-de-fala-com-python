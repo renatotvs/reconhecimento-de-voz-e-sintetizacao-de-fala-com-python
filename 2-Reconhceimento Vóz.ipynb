{
 "cells": [
  {
   "cell_type": "markdown",
   "metadata": {},
   "source": [
    "# Reconhecimento de Vóz\n"
   ]
  },
  {
   "cell_type": "code",
   "execution_count": null,
   "metadata": {},
   "outputs": [],
   "source": [
    "#!pip install pyaudio"
   ]
  },
  {
   "cell_type": "code",
   "execution_count": null,
   "metadata": {},
   "outputs": [],
   "source": [
    "#!pip install SpeechRecognition"
   ]
  },
  {
   "cell_type": "code",
   "execution_count": null,
   "metadata": {},
   "outputs": [],
   "source": [
    "#!pip install pocketsphinx"
   ]
  },
  {
   "cell_type": "code",
   "execution_count": 1,
   "metadata": {},
   "outputs": [],
   "source": [
    "import speech_recognition as sr"
   ]
  },
  {
   "cell_type": "code",
   "execution_count": null,
   "metadata": {},
   "outputs": [],
   "source": [
    "recon = sr.Recognizer()\n",
    "with sr.Microphone() as source:\n",
    "    print(\"Diga algo...\")\n",
    "    audio = recon.listen(source)"
   ]
  },
  {
   "cell_type": "code",
   "execution_count": null,
   "metadata": {},
   "outputs": [],
   "source": [
    "print(recon.recognize_sphinx(audio))"
   ]
  },
  {
   "cell_type": "markdown",
   "metadata": {},
   "source": [
    "### Utilizando a biblioteca SpeechRecognition com Microfone\n",
    "\n",
    "Efetuará o reconhecimento da fala para transcrição do audio"
   ]
  },
  {
   "cell_type": "code",
   "execution_count": null,
   "metadata": {},
   "outputs": [],
   "source": [
    "#outros testes\n",
    "recon = sr.Recognizer()\n",
    "with sr.Microphone() as source:\n",
    "    \n",
    "    #tornar o reconhecimento mais preciso. Adicionar o recurso de ambiente.\n",
    "    #reduzir ruidos\n",
    "    recon.adjust_for_ambient_noise(source, duration=3)\n",
    "        \n",
    "    print(\"Diga algo...\")\n",
    "    audio = recon.listen(source)\n",
    "    \n",
    "print(recon.recognize_sphinx(audio))"
   ]
  },
  {
   "cell_type": "markdown",
   "metadata": {},
   "source": [
    "### Reconhecedor com Loop e Ajuste de Ambiente\n",
    "Para obter uma melhor qualidade do audio. Aplicar ajuste de ruído de ambiente\n",
    "#### reconhceimento sem interrupção"
   ]
  },
  {
   "cell_type": "code",
   "execution_count": null,
   "metadata": {},
   "outputs": [],
   "source": [
    "recon = sr.Recognizer()\n",
    "with sr.Microphone() as source:\n",
    "    \n",
    "    while True:\n",
    "        #tornar o reconhecimento mais preciso. Adicionar o recurso de ambiente.\n",
    "        #reduzir ruidos\n",
    "        recon.adjust_for_ambient_noise(source, duration=3)\n",
    "        \n",
    "        print(\"Diga algo...\")\n",
    "        audio = recon.listen(source)\n",
    "        \n",
    "        print(recon.recognize_sphinx(audio))"
   ]
  },
  {
   "cell_type": "markdown",
   "metadata": {},
   "source": [
    "### Lendo Arquivos de Audio com Sphinx\n",
    "\n",
    "+ Exemplos de Audio .wav: http://www.wavsource.com/people/men.htm"
   ]
  },
  {
   "cell_type": "code",
   "execution_count": null,
   "metadata": {},
   "outputs": [],
   "source": []
  },
  {
   "cell_type": "markdown",
   "metadata": {},
   "source": [
    "### Utilizando a biblioteca SpeechRecognition com arquivo de Audio\n",
    "\n",
    "Efetuará o reconhecimento da fala para transcrição do audio"
   ]
  },
  {
   "cell_type": "code",
   "execution_count": 2,
   "metadata": {},
   "outputs": [
    {
     "name": "stdout",
     "output_type": "stream",
     "text": [
      "best prices guarantee\n"
     ]
    }
   ],
   "source": [
    "#O teste deve ser com arquivo . WAV\n",
    "import speech_recognition as sr\n",
    "\n",
    "recon = sr.Recognizer()\n",
    "\n",
    "PATH = \"audios/best_prices.wav\"\n",
    "\n",
    "with sr.AudioFile(PATH) as source: \n",
    "    audio = recon.record(source)\n",
    "    #recon.adjust_for_ambient_noise(source, duration=3)\n",
    "    \n",
    "print(recon.recognize_sphinx(audio))"
   ]
  },
  {
   "cell_type": "code",
   "execution_count": null,
   "metadata": {},
   "outputs": [],
   "source": []
  },
  {
   "cell_type": "markdown",
   "metadata": {},
   "source": [
    "### Live Speech\n",
    "\n",
    "Utilizar a biblioteca pocketsphinx"
   ]
  },
  {
   "cell_type": "code",
   "execution_count": 1,
   "metadata": {},
   "outputs": [],
   "source": [
    "from pocketsphinx import LiveSpeech"
   ]
  },
  {
   "cell_type": "code",
   "execution_count": 3,
   "metadata": {},
   "outputs": [
    {
     "name": "stderr",
     "output_type": "stream",
     "text": [
      "C:\\Users\\r.tavares.da.silva\\AppData\\Local\\Continuum\\anaconda3\\lib\\site-packages\\ipykernel_launcher.py:1: DeprecationWarning: generator 'LiveSpeech.__iter__' raised StopIteration\n",
      "  \"\"\"Entry point for launching an IPython kernel.\n"
     ]
    }
   ],
   "source": [
    "for phrase in LiveSpeech():\n",
    "    \n",
    "    print(phrase)"
   ]
  },
  {
   "cell_type": "markdown",
   "metadata": {},
   "source": [
    "### Reconhecimento de vóz em português\n",
    "Usando API  do Google\n",
    "\n",
    "Observações: Os testes pelo **jupyter notebook** não estão funcionando muito bem \"hora funciona e hora não funciona\" Não está executando o reconhecimento na API do Google. O mesmo teste executei no **PyCharm** e funcionou corretamente.\n",
    "\n",
    "Embaixo de cada exemplo deixarei disponível um arquivo para download."
   ]
  },
  {
   "cell_type": "code",
   "execution_count": 1,
   "metadata": {},
   "outputs": [],
   "source": [
    "import speech_recognition as sr"
   ]
  },
  {
   "cell_type": "code",
   "execution_count": null,
   "metadata": {},
   "outputs": [],
   "source": [
    "recon = sr.Recognizer()\n",
    "\n",
    "with sr.Microphone() as source:\n",
    "    \n",
    "    print(\"Diga algo...\")\n",
    "    \n",
    "    audio = recon.listen(source)\n",
    "    \n",
    "    #para usar outra chave de API -> 'recon.recognize_google(audio, key=\"GOOGLE_SPEECH_RECOGNITION_API_KEY\")'\n",
    "    #Usaremos chave de API (default) -> 'recon.recognize_google(audio)'\n",
    "    \n",
    "    # NOTE: Este exemplo requer PyAudio instalado para utilizar a classe Microphone\n",
    "\n",
    "print(recon.recognize_google(audio, language='pt-BR'))"
   ]
  },
  {
   "cell_type": "markdown",
   "metadata": {},
   "source": [
    "Arquivo:\n",
    "\n",
    "[reconhecimento_portugues_speech_recognition.py](py/reconhecimento_portugues_speech_recognition.py)"
   ]
  },
  {
   "cell_type": "markdown",
   "metadata": {},
   "source": [
    "### Desafio 1 - Comando de Vóz"
   ]
  },
  {
   "cell_type": "code",
   "execution_count": null,
   "metadata": {},
   "outputs": [],
   "source": [
    "import speech_recognition as sr\n",
    "import so"
   ]
  },
  {
   "cell_type": "code",
   "execution_count": null,
   "metadata": {},
   "outputs": [],
   "source": [
    "print(\"Olá usuário, Deseja abrir sua Agenda?\")\n",
    "\n",
    "recon = sr.Recognizer()\n",
    "\n",
    "with sr.Microphone() as source:\n",
    "\n",
    "    audio = recon.listen(source)\n",
    "    \n",
    "resposta = recon.recognize_google(audio, language=\"pt-BR\")\n",
    "\n",
    "if resposta == \"sim\":\n",
    "    print(\"Abrindo Agenda...\")\n",
    "    os.system(r\"C:\\Users\\r.tavares.da.silva\\OneDrive\\Inteligencia Artificial\\Curso_Udemy\\reconhecimento-e-sintetizacao-de-voz-com-python\\meutexto.txt\")\n",
    "elif resposta == \"não\":\n",
    "    print(\"Solicitação Negada\")"
   ]
  },
  {
   "cell_type": "markdown",
   "metadata": {},
   "source": [
    "### Desafio 2 - Multiplicando Números por Comando de Vóz\n",
    "\n",
    "Criar uma rotina que verifica a descrição de multiplicação: desmembrando os numeros para o cálculo."
   ]
  },
  {
   "cell_type": "code",
   "execution_count": null,
   "metadata": {},
   "outputs": [],
   "source": [
    "import speech_recognition as sr"
   ]
  },
  {
   "cell_type": "code",
   "execution_count": null,
   "metadata": {},
   "outputs": [],
   "source": [
    "recon = sr.Recognizer()\n",
    "\n",
    "with sr.Microphone() as source:\n",
    "    \n",
    "    while True:\n",
    "        print(\"Descreva sua Multiplicação\")\n",
    "\n",
    "        audio = recon.listen(source)\n",
    "\n",
    "        verificaFala = recon.recognize_google(audio, language=\"pt-BR\")\n",
    "\n",
    "        if verificaFala == \"fechar\": break\n",
    "        \n",
    "        print(\"Sua Multiplicação: \" + str(verificaFala))\n",
    "        print(\"Resultado: \" + str(int(verificaFala[0]) * int(verificaFala[4])))"
   ]
  },
  {
   "cell_type": "markdown",
   "metadata": {},
   "source": [
    "Arquivo:\n",
    "\n",
    "[multiplicacao-com-speech-recognition.py](py/multiplicacao-com-speech-recognition.py)"
   ]
  },
  {
   "cell_type": "code",
   "execution_count": null,
   "metadata": {},
   "outputs": [],
   "source": []
  }
 ],
 "metadata": {
  "kernelspec": {
   "display_name": "Python 3",
   "language": "python",
   "name": "python3"
  },
  "language_info": {
   "codemirror_mode": {
    "name": "ipython",
    "version": 3
   },
   "file_extension": ".py",
   "mimetype": "text/x-python",
   "name": "python",
   "nbconvert_exporter": "python",
   "pygments_lexer": "ipython3",
   "version": "3.6.5"
  }
 },
 "nbformat": 4,
 "nbformat_minor": 2
}
