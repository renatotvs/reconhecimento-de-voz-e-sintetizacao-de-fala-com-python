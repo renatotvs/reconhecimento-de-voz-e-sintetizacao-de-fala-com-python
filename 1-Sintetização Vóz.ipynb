{
 "cells": [
  {
   "cell_type": "markdown",
   "metadata": {},
   "source": [
    "# Sintetização de Vóz\n",
    "\n",
    "+ Conhecida pela sigla TTS (Text-To-Speech)\n",
    "+ Processo de produção artificial da fala humana.\n",
    "+ Consiste basicamente transformar um texto em uma fala.\n",
    "+ O reconhecimento de fala (speech-to-text) é o processo inverso da sintetização ou seja é a capacidade computacional de transformar uma fala em texto."
   ]
  },
  {
   "cell_type": "markdown",
   "metadata": {},
   "source": [
    "## Utilizando Espeak"
   ]
  },
  {
   "cell_type": "code",
   "execution_count": 1,
   "metadata": {},
   "outputs": [],
   "source": [
    "import os"
   ]
  },
  {
   "cell_type": "code",
   "execution_count": 2,
   "metadata": {},
   "outputs": [
    {
     "data": {
      "text/plain": [
       "0"
      ]
     },
     "execution_count": 2,
     "metadata": {},
     "output_type": "execute_result"
    }
   ],
   "source": [
    "os.system('espeak \"Hello, How are you\"')"
   ]
  },
  {
   "cell_type": "code",
   "execution_count": 3,
   "metadata": {},
   "outputs": [
    {
     "data": {
      "text/plain": [
       "0"
      ]
     },
     "execution_count": 3,
     "metadata": {},
     "output_type": "execute_result"
    }
   ],
   "source": [
    "os.system('espeak -v pt \"Olá mundo, o python é demais\"')"
   ]
  },
  {
   "cell_type": "code",
   "execution_count": 4,
   "metadata": {},
   "outputs": [
    {
     "data": {
      "text/plain": [
       "0"
      ]
     },
     "execution_count": 4,
     "metadata": {},
     "output_type": "execute_result"
    }
   ],
   "source": [
    "os.system('espeak -v pt -s 140 \"Olá mundo, o python é demais\"')"
   ]
  },
  {
   "cell_type": "markdown",
   "metadata": {},
   "source": [
    "+ Utilizando Subprocess"
   ]
  },
  {
   "cell_type": "code",
   "execution_count": 5,
   "metadata": {},
   "outputs": [],
   "source": [
    "from subprocess import call"
   ]
  },
  {
   "cell_type": "code",
   "execution_count": 6,
   "metadata": {},
   "outputs": [],
   "source": [
    "minhafala = \"Olá Mundo, vamos sintetizar vóz com python\""
   ]
  },
  {
   "cell_type": "code",
   "execution_count": 7,
   "metadata": {},
   "outputs": [
    {
     "data": {
      "text/plain": [
       "0"
      ]
     },
     "execution_count": 7,
     "metadata": {},
     "output_type": "execute_result"
    }
   ],
   "source": [
    "call([\"espeak\", minhafala])"
   ]
  },
  {
   "cell_type": "markdown",
   "metadata": {},
   "source": [
    "## Utilizando Pyttsx3"
   ]
  },
  {
   "cell_type": "code",
   "execution_count": null,
   "metadata": {},
   "outputs": [],
   "source": [
    "!pip install pyttsx3"
   ]
  },
  {
   "cell_type": "code",
   "execution_count": null,
   "metadata": {},
   "outputs": [],
   "source": [
    "!pip install pypiwin32"
   ]
  },
  {
   "cell_type": "code",
   "execution_count": 8,
   "metadata": {},
   "outputs": [],
   "source": [
    "import pyttsx3"
   ]
  },
  {
   "cell_type": "code",
   "execution_count": 10,
   "metadata": {},
   "outputs": [],
   "source": [
    "en = pyttsx3.init()\n",
    "en.say(\"Olá Mundo, seja bem vindo\")\n",
    "#en.setProperty('voice', b'brazil') #tentar idioma português\n",
    "en.runAndWait()\n",
    "en.stop()"
   ]
  },
  {
   "cell_type": "code",
   "execution_count": 11,
   "metadata": {},
   "outputs": [
    {
     "name": "stdout",
     "output_type": "stream",
     "text": [
      "200\n"
     ]
    }
   ],
   "source": [
    "\"\"\" RATE\"\"\"\n",
    "rate = en.getProperty('rate')   # getting details of current speaking rate\n",
    "print (rate)                    #printing current voice rate\n",
    "en.setProperty('rate', 125)     # setting up new voice rate"
   ]
  },
  {
   "cell_type": "code",
   "execution_count": 12,
   "metadata": {},
   "outputs": [
    {
     "name": "stdout",
     "output_type": "stream",
     "text": [
      "1.0\n"
     ]
    }
   ],
   "source": [
    "\"\"\"VOLUME\"\"\"\n",
    "volume = en.getProperty('volume')   #getting to know current volume level (min=0 and max=1)\n",
    "print (volume)                          #printing current volume level\n",
    "en.setProperty('volume',1.0)    # setting up volume level  between 0 and 1"
   ]
  },
  {
   "cell_type": "code",
   "execution_count": 19,
   "metadata": {},
   "outputs": [],
   "source": [
    "\"\"\"VOICE\"\"\"\n",
    "voices = en.getProperty('voices')       #getting details of current voice\n",
    "#engine.setProperty('voice', voices[0].id)  #changing index, changes voices. o for male\n",
    "#en.setProperty('voice', voices[1].id)   #changing index, changes voices. 1 for female"
   ]
  },
  {
   "cell_type": "code",
   "execution_count": 20,
   "metadata": {},
   "outputs": [],
   "source": [
    "en.say(\"Hello World!\")\n",
    "en.say('My current speaking rate is ' + str(rate))\n",
    "en.runAndWait()\n",
    "en.stop()"
   ]
  },
  {
   "cell_type": "markdown",
   "metadata": {},
   "source": [
    "### Teste Progressivo com \"rate\" e \"volume\""
   ]
  },
  {
   "cell_type": "markdown",
   "metadata": {},
   "source": [
    "+ Velocidade"
   ]
  },
  {
   "cell_type": "code",
   "execution_count": 21,
   "metadata": {},
   "outputs": [],
   "source": [
    "import pyttsx3\n",
    "\n",
    "engine = pyttsx3.init()\n",
    "\n",
    "texto_fala = \"Testando a velocidade\"\n",
    "velocidade_fala = 50\n",
    "\n",
    "#engine.setProperty(\"rate\", velocidade_fala)\n",
    "#engine.say(texto_fala)\n",
    "#engine.runAndWait()\n",
    "#engine.stop()\n",
    "\n",
    "while velocidade_fala<=300:\n",
    "    \n",
    "    engine.setProperty(\"rate\", velocidade_fala)\n",
    "    engine.say(texto_fala)\n",
    "    engine.runAndWait()\n",
    "    engine.stop()\n",
    "    \n",
    "    velocidade_fala = velocidade_fala + 50\n",
    "    "
   ]
  },
  {
   "cell_type": "markdown",
   "metadata": {},
   "source": [
    "+ Volume"
   ]
  },
  {
   "cell_type": "code",
   "execution_count": 22,
   "metadata": {},
   "outputs": [],
   "source": [
    "import pyttsx3\n",
    "\n",
    "engine = pyttsx3.init()\n",
    "\n",
    "#setando a velocidade padrão\n",
    "engine.setProperty(\"rate\", 120)\n",
    "\n",
    "texto_fala = \"Testando o volume\"\n",
    "volume_fala = 0.2\n",
    "\n",
    "while volume_fala <= 1:\n",
    "    \n",
    "    engine.setProperty(\"volume\", volume_fala)\n",
    "    engine.say(texto_fala)\n",
    "    engine.runAndWait()\n",
    "    engine.stop()\n",
    "    \n",
    "    volume_fala = volume_fala + 0.2"
   ]
  },
  {
   "cell_type": "markdown",
   "metadata": {},
   "source": [
    "### Desafio 1\n",
    "\n",
    "Criar um trecho de fala com o uso da biblioteca datetime"
   ]
  },
  {
   "cell_type": "code",
   "execution_count": 23,
   "metadata": {},
   "outputs": [
    {
     "name": "stdout",
     "output_type": "stream",
     "text": [
      "Olá, Renato Tavares. Seja bem vindo agora são: 17 hora(s) e 45 minuto(s).\n"
     ]
    }
   ],
   "source": [
    "import pyttsx3\n",
    "from datetime import datetime\n",
    "\n",
    "nome = \"Renato Tavares\"\n",
    "agora = datetime.now()\n",
    "hora = agora.hour\n",
    "minute = agora.minute\n",
    "\n",
    "trecho_fala = \"Olá, \" + nome + \". Seja bem vindo agora são: \" + str(hora) + \" hora(s)\" + \" e \" + str(minute) + \" minuto(s).\"\n",
    "\n",
    "print(trecho_fala)\n",
    "\n",
    "engine = pyttsx3.init()\n",
    "engine.setProperty(\"rate\", 120)\n",
    "engine.setProperty(\"volume\", 1)\n",
    "#engine.setProperty('voice', b'brazil') #tentar idioma português\n",
    "engine.say(trecho_fala)\n",
    "engine.runAndWait()\n",
    "engine.stop()"
   ]
  },
  {
   "cell_type": "code",
   "execution_count": 2,
   "metadata": {},
   "outputs": [],
   "source": [
    "en.setProperty('rate', 125)"
   ]
  },
  {
   "cell_type": "code",
   "execution_count": 24,
   "metadata": {},
   "outputs": [],
   "source": [
    "#teste\n",
    "import pyttsx3\n",
    "en = pyttsx3.init(\"sapi5\")\n",
    "en.say(\"Olá Mundo, seja bem vindo\")\n",
    "#en.setProperty('voice', b'brazil') #tentar idioma português\n",
    "en.runAndWait()\n",
    "en.stop()"
   ]
  },
  {
   "cell_type": "markdown",
   "metadata": {},
   "source": [
    "## Sintetização usando GTTS(Google-Text-To-Speech)\n",
    "\n",
    "Vantagens e Desvantagens\n",
    "\n",
    "+ Vantagens:\n",
    "    + Suporta varios idiomas inclusive português\n",
    "    + Tem uma boa precisão\n",
    "    \n",
    "+ Desvantagens:\n",
    "    + o processo de sintetização é online \n",
    "    + Tem uma precisão muito grande em relação as demais bibliotecas"
   ]
  },
  {
   "cell_type": "code",
   "execution_count": null,
   "metadata": {},
   "outputs": [],
   "source": [
    "!pip install gtts"
   ]
  },
  {
   "cell_type": "code",
   "execution_count": null,
   "metadata": {},
   "outputs": [],
   "source": [
    "!pip install pygame"
   ]
  },
  {
   "cell_type": "code",
   "execution_count": 25,
   "metadata": {},
   "outputs": [],
   "source": [
    "from gtts import gTTS"
   ]
  },
  {
   "cell_type": "code",
   "execution_count": 26,
   "metadata": {},
   "outputs": [],
   "source": [
    "voz = gTTS(\"Olá vamos sintetizar vóz com python\", lang='pt')\n",
    "voz.save(\"audios/voz.mp3\")"
   ]
  },
  {
   "cell_type": "markdown",
   "metadata": {},
   "source": [
    "### Utilizar o pygame para executar o Audio"
   ]
  },
  {
   "cell_type": "code",
   "execution_count": 27,
   "metadata": {},
   "outputs": [
    {
     "name": "stdout",
     "output_type": "stream",
     "text": [
      "pygame 1.9.4\n",
      "Hello from the pygame community. https://www.pygame.org/contribute.html\n"
     ]
    }
   ],
   "source": [
    "from pygame import mixer"
   ]
  },
  {
   "cell_type": "code",
   "execution_count": 30,
   "metadata": {},
   "outputs": [],
   "source": [
    "mixer.init()\n",
    "mixer.music.load(\"audios/voz.mp3\")\n",
    "mixer.music.play()"
   ]
  },
  {
   "cell_type": "markdown",
   "metadata": {},
   "source": [
    "### Utilizar \"import os\" para executar o Audio"
   ]
  },
  {
   "cell_type": "code",
   "execution_count": 32,
   "metadata": {},
   "outputs": [],
   "source": [
    "#criar um novo arquivo\n",
    "voz = gTTS(\"Olá vamos sintetizar vóz com python\", lang='pt')\n",
    "voz.save(\"audios/voz1.mp3\")"
   ]
  },
  {
   "cell_type": "code",
   "execution_count": 34,
   "metadata": {},
   "outputs": [
    {
     "data": {
      "text/plain": [
       "1"
      ]
     },
     "execution_count": 34,
     "metadata": {},
     "output_type": "execute_result"
    }
   ],
   "source": [
    "import os\n",
    "os.system('audios/voz1.mp3')"
   ]
  },
  {
   "cell_type": "markdown",
   "metadata": {},
   "source": [
    "### Desafio 2\n",
    "Criar um leitor de arquivo de texto em Português"
   ]
  },
  {
   "cell_type": "code",
   "execution_count": 35,
   "metadata": {},
   "outputs": [
    {
     "name": "stdout",
     "output_type": "stream",
     "text": [
      "Digite o caminho do diretorio de texto:C:\\Users\\r.tavares.da.silva\\OneDrive\\Inteligencia Artificial\\Curso_Udemy\\reconhecimento-e-sintetizacao-de-voz-com-python\\meutexto.txt\n",
      "O arquivo está sendo carregado aguarde...\n",
      "Salvando arquivo, aguarde...\n",
      "Falando...\n"
     ]
    }
   ],
   "source": [
    "from gtts import gTTS\n",
    "from pygame import mixer\n",
    "import os.path\n",
    "\n",
    "diretorio = input(\"Digite o caminho do diretorio de texto:\")\n",
    "\n",
    "verifica_diretorio = os.path.isfile(diretorio)\n",
    "\n",
    "if verifica_diretorio == True:\n",
    "    \n",
    "    print(\"O arquivo está sendo carregado aguarde...\")\n",
    "    file_data = open(diretorio)\n",
    "    file_data = file_data.read()\n",
    "    \n",
    "    print(\"Salvando arquivo, aguarde...\")\n",
    "    voz = gTTS(file_data, lang='pt')\n",
    "    voz.save(\"audios/voz_texto.mp3\")\n",
    "    \n",
    "    print(\"Falando...\")\n",
    "    \n",
    "    mixer.init()\n",
    "    mixer.music.load(\"audios/voz_texto.mp3\")\n",
    "    mixer.music.play()\n",
    "    \n",
    "else:\n",
    "    print(\"diretorio não encontrado!\")"
   ]
  },
  {
   "cell_type": "markdown",
   "metadata": {},
   "source": [
    "Criar um leitor de arquivo de texto em Inglês"
   ]
  },
  {
   "cell_type": "code",
   "execution_count": 36,
   "metadata": {},
   "outputs": [
    {
     "name": "stdout",
     "output_type": "stream",
     "text": [
      "Digite o caminho do diretorio de texto:C:\\Users\\r.tavares.da.silva\\OneDrive\\Inteligencia Artificial\\Curso_Udemy\\reconhecimento-e-sintetizacao-de-voz-com-python\\Fala.txt\n",
      "O arquivo está sendo carregado aguarde...\n",
      "Salvando arquivo, aguarde...\n",
      "Falando...\n"
     ]
    }
   ],
   "source": [
    "from gtts import gTTS\n",
    "from pygame import mixer\n",
    "import os.path\n",
    "\n",
    "diretorio = input(\"Digite o caminho do diretorio de texto:\")\n",
    "\n",
    "verifica_diretorio = os.path.isfile(diretorio)\n",
    "\n",
    "if verifica_diretorio == True:\n",
    "    \n",
    "    print(\"O arquivo está sendo carregado aguarde...\")\n",
    "    file_data = open(diretorio)\n",
    "    file_data = file_data.read()\n",
    "    \n",
    "    print(\"Salvando arquivo, aguarde...\")\n",
    "    voz = gTTS(file_data)\n",
    "    voz.save(\"audios/Fala.mp3\")\n",
    "    \n",
    "    print(\"Falando...\")\n",
    "    \n",
    "    mixer.init()\n",
    "    mixer.music.load(\"audios/Fala.mp3\")\n",
    "    mixer.music.play()\n",
    "    \n",
    "else:\n",
    "    print(\"diretorio não encontrado!\")"
   ]
  },
  {
   "cell_type": "code",
   "execution_count": null,
   "metadata": {},
   "outputs": [],
   "source": []
  }
 ],
 "metadata": {
  "kernelspec": {
   "display_name": "Python 3",
   "language": "python",
   "name": "python3"
  },
  "language_info": {
   "codemirror_mode": {
    "name": "ipython",
    "version": 3
   },
   "file_extension": ".py",
   "mimetype": "text/x-python",
   "name": "python",
   "nbconvert_exporter": "python",
   "pygments_lexer": "ipython3",
   "version": "3.6.5"
  }
 },
 "nbformat": 4,
 "nbformat_minor": 2
}
