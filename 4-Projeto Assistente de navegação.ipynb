{
 "cells": [
  {
   "cell_type": "markdown",
   "metadata": {},
   "source": [
    "## Projeto Assistente de navegação\n",
    "\n",
    "Criar um assistente de navegação para abrir sites por comando de vóz."
   ]
  },
  {
   "cell_type": "code",
   "execution_count": 3,
   "metadata": {},
   "outputs": [
    {
     "name": "stdout",
     "output_type": "stream",
     "text": [
      "Fale o que deseja...\n"
     ]
    }
   ],
   "source": [
    "import pyttsx3 #para sintetização\n",
    "import speech_recognition as sr #para reconhecimento de vóz\n",
    "import webbrowser #para manipulação do brownser\n",
    "\n",
    "#sintetização\n",
    "en = pyttsx3.init()\n",
    "en.say(\"Olá senhor, o que deseja fazer nesse momento?\")\n",
    "en.setProperty('voice', b'brazil')\n",
    "en.setProperty('rate', 140)\n",
    "en.setProperty('volume', 1)\n",
    "en.runAndWait()\n",
    "en.stop()\n",
    "\n",
    "#reconhecimento da fala\n",
    "recon = sr.Recognizer()\n",
    "\n",
    "with sr.Microphone() as source:\n",
    "    \n",
    "    print(\"Fale o que deseja...\")\n",
    "    \n",
    "    audio = recon.listen(source)\n",
    "    \n",
    "    respAudio = recon.recognize_google(audio, language='pt-BR')\n",
    "    \n",
    "    if respAudio == \"Google\":\n",
    "        \n",
    "        en.say(\"abrindo o Google\")\n",
    "        en.setProperty('voice', b'brazil')\n",
    "        en.setProperty('rate', 140)\n",
    "        en.setProperty('volume', 1)\n",
    "        en.runAndWait()\n",
    "    \n",
    "        webbrowser.open(\"http://www.google.com.br\")\n",
    "        \n",
    "    else:\n",
    "        \n",
    "        en.say(\"Me desculpe, não compreendi. Tente novamente.\")\n",
    "        en.setProperty('voice', b'brazil')\n",
    "        en.setProperty('rate', 140)\n",
    "        en.setProperty('volume', 1)\n",
    "        en.runAndWait()\n",
    "        en.stop()\n"
   ]
  },
  {
   "cell_type": "code",
   "execution_count": null,
   "metadata": {},
   "outputs": [],
   "source": []
  }
 ],
 "metadata": {
  "kernelspec": {
   "display_name": "Python 3",
   "language": "python",
   "name": "python3"
  },
  "language_info": {
   "codemirror_mode": {
    "name": "ipython",
    "version": 3
   },
   "file_extension": ".py",
   "mimetype": "text/x-python",
   "name": "python",
   "nbconvert_exporter": "python",
   "pygments_lexer": "ipython3",
   "version": "3.6.5"
  }
 },
 "nbformat": 4,
 "nbformat_minor": 2
}
